{
 "cells": [
  {
   "cell_type": "code",
   "execution_count": 1,
   "metadata": {
    "execution": {
     "iopub.execute_input": "2021-02-09T17:44:21.376352Z",
     "iopub.status.busy": "2021-02-09T17:44:21.376110Z",
     "iopub.status.idle": "2021-02-09T17:44:21.387904Z",
     "shell.execute_reply": "2021-02-09T17:44:21.387315Z",
     "shell.execute_reply.started": "2021-02-09T17:44:21.376289Z"
    }
   },
   "outputs": [],
   "source": [
    "import os\n",
    "from pathlib import Path\n",
    "from multiprocessing import Pool\n",
    "from xml.etree.ElementTree import iterparse, tostring"
   ]
  },
  {
   "cell_type": "code",
   "execution_count": 2,
   "metadata": {
    "execution": {
     "iopub.execute_input": "2021-02-09T17:44:21.388829Z",
     "iopub.status.busy": "2021-02-09T17:44:21.388690Z",
     "iopub.status.idle": "2021-02-09T17:44:21.391798Z",
     "shell.execute_reply": "2021-02-09T17:44:21.391047Z",
     "shell.execute_reply.started": "2021-02-09T17:44:21.388811Z"
    }
   },
   "outputs": [],
   "source": [
    "data_dir = Path('../../../data/stackoverflow/raw')"
   ]
  },
  {
   "cell_type": "code",
   "execution_count": 5,
   "metadata": {
    "execution": {
     "iopub.execute_input": "2021-02-09T17:49:40.126002Z",
     "iopub.status.busy": "2021-02-09T17:49:40.125763Z",
     "iopub.status.idle": "2021-02-09T17:49:40.156048Z",
     "shell.execute_reply": "2021-02-09T17:49:40.154981Z",
     "shell.execute_reply.started": "2021-02-09T17:49:40.125976Z"
    }
   },
   "outputs": [],
   "source": [
    "tags = ['game-engine',\n",
    "        'game-physics',\n",
    "        'game-development',\n",
    "        'gameobject',\n",
    "        '2d-games',\n",
    "        'unreal-engine4',\n",
    "        'unreal-blueprint',\n",
    "        'unreal-development-kit',\n",
    "        'unrealscript',\n",
    "        'unity3d',\n",
    "        'unity5',\n",
    "        'unity5.3',\n",
    "        'unity3d-mecanim',\n",
    "        'unity3d-terrain',\n",
    "        'unityscript',\n",
    "        'unity3d-2dtools',\n",
    "        'unity3d-unet',\n",
    "        'unity-webgl',\n",
    "        'unity2d',\n",
    "        'unity-editor',\n",
    "        'unity3d-editor',\n",
    "        'unity-networking',\n",
    "        'unity3d-gui',\n",
    "        'unity-ui',\n",
    "        'unity3d-5']\n",
    "\n",
    "def make_questions_xml(tags):\n",
    "    def split_xml(tag):\n",
    "        print(tag)\n",
    "        os.system(\n",
    "            f'grep -F \"&lt;{tag}&gt;\" {data_dir}/Posts.xml > {data_dir}/tag_questions/{tag}.xml')\n",
    "    def tag_pool(tags):\n",
    "        with Pool(8) as p:\n",
    "            p.map(split_xml, tags)\n",
    "\n",
    "    def merge_files():\n",
    "        os.system(f'echo \"<posts>\" > {data_dir}/gamedev_questions.xml')\n",
    "        os.system(\n",
    "            f'cat {data_dir}/tag_questions/* >> {data_dir}/gamedev_questions.xml')\n",
    "        os.system(f'echo \"</posts>\" >> {data_dir}/gamedev_questions.xml')\n",
    "    \n",
    "    tag_pool(tags)  # takes 21 mins\n",
    "    merge_files()\n",
    "    \n",
    "def get_ids(name):\n",
    "    gamedev_ids = set()\n",
    "    for _, node in iterparse(data_dir / f'gamedev_{name}.xml', events=(\"end\",)):\n",
    "        if node.tag == \"row\":\n",
    "            gamedev_ids.add(node.attrib.get('Id'))\n",
    "    return gamedev_ids\n",
    "\n",
    "def to_xml(file_name, xml_list):\n",
    "    os.system(f'echo \"<posts>\" > {data_dir}/{file_name}.xml')\n",
    "    \n",
    "    with open(f'{data_dir}/{file_name}.xml', 'a') as f:\n",
    "        for xml in xml_list:\n",
    "            f.write(xml.decode('utf-8'))\n",
    "    \n",
    "    os.system(f'echo \"</posts>\" >> {data_dir}/{file_name}.xml')\n",
    "    \n",
    "def make_answers_xml():\n",
    "    ids = get_ids('questions')\n",
    "    \n",
    "    # 28 mins\n",
    "    answers = []\n",
    "    for _, node in iterparse(data_dir / 'Posts.xml', events=(\"end\",)):\n",
    "        if node.tag == \"row\" and node.attrib.get('PostTypeId') == '2' and node.attrib.get('ParentId') in ids:\n",
    "            answers.append(tostring(node))\n",
    "        node.clear()\n",
    "    \n",
    "    to_xml('gamedev_answers', answers)\n",
    "    \n",
    "def make_comments_xml():\n",
    "    ids = get_ids('questions') | get_ids('answers')\n",
    "    \n",
    "    # 9 mins\n",
    "    comments = []\n",
    "    for _, node in iterparse(data_dir / 'Comments.xml', events=(\"end\",)):\n",
    "        if node.tag == \"row\" and node.attrib.get('PostId') in ids:\n",
    "            comments.append(tostring(node))\n",
    "        node.clear()\n",
    "    \n",
    "    to_xml('gamedev_comments', comments)"
   ]
  },
  {
   "cell_type": "code",
   "execution_count": 6,
   "metadata": {
    "execution": {
     "iopub.execute_input": "2021-02-09T17:49:41.035610Z",
     "iopub.status.busy": "2021-02-09T17:49:41.035209Z",
     "iopub.status.idle": "2021-02-09T17:59:25.020025Z",
     "shell.execute_reply": "2021-02-09T17:59:25.019189Z",
     "shell.execute_reply.started": "2021-02-09T17:49:41.035568Z"
    }
   },
   "outputs": [],
   "source": [
    "#make_questions_xml(tags)\n",
    "#make_answers_xml()\n",
    "make_comments_xml()"
   ]
  }
 ],
 "metadata": {
  "kernelspec": {
   "display_name": "Python 3",
   "language": "python",
   "name": "python3"
  },
  "language_info": {
   "codemirror_mode": {
    "name": "ipython",
    "version": 3
   },
   "file_extension": ".py",
   "mimetype": "text/x-python",
   "name": "python",
   "nbconvert_exporter": "python",
   "pygments_lexer": "ipython3",
   "version": "3.9.2"
  }
 },
 "nbformat": 4,
 "nbformat_minor": 4
}
