{
 "cells": [
  {
   "cell_type": "code",
   "execution_count": 1,
   "metadata": {
    "execution": {
     "iopub.execute_input": "2021-03-18T19:40:00.535258Z",
     "iopub.status.busy": "2021-03-18T19:40:00.534401Z",
     "iopub.status.idle": "2021-03-18T19:40:00.929527Z",
     "shell.execute_reply": "2021-03-18T19:40:00.928968Z",
     "shell.execute_reply.started": "2021-03-18T19:40:00.535032Z"
    }
   },
   "outputs": [],
   "source": [
    "import pandas as pd\n",
    "from pathlib import Path\n",
    "from datetime import datetime\n",
    "from xml.etree.ElementTree import iterparse"
   ]
  },
  {
   "cell_type": "code",
   "execution_count": 2,
   "metadata": {
    "execution": {
     "iopub.execute_input": "2021-03-18T19:40:00.930886Z",
     "iopub.status.busy": "2021-03-18T19:40:00.930743Z",
     "iopub.status.idle": "2021-03-18T19:40:00.933575Z",
     "shell.execute_reply": "2021-03-18T19:40:00.932919Z",
     "shell.execute_reply.started": "2021-03-18T19:40:00.930868Z"
    }
   },
   "outputs": [],
   "source": [
    "data_dir = Path('../../../data/stackoverflow/')"
   ]
  },
  {
   "cell_type": "code",
   "execution_count": 3,
   "metadata": {
    "execution": {
     "iopub.execute_input": "2021-03-18T19:40:00.935094Z",
     "iopub.status.busy": "2021-03-18T19:40:00.934826Z",
     "iopub.status.idle": "2021-03-18T19:40:06.834311Z",
     "shell.execute_reply": "2021-03-18T19:40:06.833350Z",
     "shell.execute_reply.started": "2021-03-18T19:40:00.935065Z"
    }
   },
   "outputs": [],
   "source": [
    "questions = []\n",
    "for _, node in iterparse(data_dir / \"raw/gamedev_questions.xml\", events=(\"end\",)):\n",
    "    if node.tag == \"row\":\n",
    "        questions.append({\n",
    "            'id': node.attrib.get('Id'),\n",
    "            'accepted_id': node.attrib.get('AcceptedAnswerId'),\n",
    "            'post_date': node.attrib.get('CreationDate'),\n",
    "            'author_id': node.attrib.get('OwnerUserId'),\n",
    "            'title': node.attrib.get('Title'), \n",
    "            'text': node.attrib.get('Body'),\n",
    "        })\n",
    "    node.clear()\n",
    "questions = pd.DataFrame(questions)\n",
    "\n",
    "answers = []\n",
    "for _, node in iterparse(data_dir / \"raw/gamedev_answers.xml\", events=(\"end\",)):\n",
    "    if node.tag == \"row\":\n",
    "        answers.append({\n",
    "            'id': node.attrib.get('Id'),\n",
    "            'question_id': node.attrib.get('ParentId'),\n",
    "            'post_date': node.attrib.get('CreationDate'),\n",
    "            'author_id': node.attrib.get('OwnerUserId'),\n",
    "            'text': node.attrib.get('Body')\n",
    "        })\n",
    "    node.clear()\n",
    "        \n",
    "answers = pd.DataFrame(answers)\n",
    "\n",
    "comments = []\n",
    "for _, node in iterparse(data_dir / \"raw/gamedev_comments.xml\", events=(\"end\",)):\n",
    "    if node.tag == \"row\":\n",
    "        comments.append({\n",
    "            'id': node.attrib.get('Id'),\n",
    "            'parent_id': node.attrib.get('PostId'),\n",
    "            'post_date': node.attrib.get('CreationDate'),\n",
    "            'author_id': node.attrib.get('UserId'),\n",
    "            'text': node.attrib.get('Text')\n",
    "        })\n",
    "        node.clear()\n",
    "        \n",
    "comments = pd.DataFrame(comments)"
   ]
  },
  {
   "cell_type": "code",
   "execution_count": 4,
   "metadata": {
    "execution": {
     "iopub.execute_input": "2021-03-18T19:40:06.835699Z",
     "iopub.status.busy": "2021-03-18T19:40:06.835451Z",
     "iopub.status.idle": "2021-03-18T19:40:06.839647Z",
     "shell.execute_reply": "2021-03-18T19:40:06.838699Z",
     "shell.execute_reply.started": "2021-03-18T19:40:06.835669Z"
    }
   },
   "outputs": [],
   "source": [
    "dateparse = lambda t: datetime.strptime(t, '%Y-%m-%dT%H:%M:%S.%f')"
   ]
  },
  {
   "cell_type": "code",
   "execution_count": 5,
   "metadata": {
    "execution": {
     "iopub.execute_input": "2021-03-18T19:40:06.841306Z",
     "iopub.status.busy": "2021-03-18T19:40:06.841030Z",
     "iopub.status.idle": "2021-03-18T19:40:09.074625Z",
     "shell.execute_reply": "2021-03-18T19:40:09.073850Z",
     "shell.execute_reply.started": "2021-03-18T19:40:06.841274Z"
    }
   },
   "outputs": [],
   "source": [
    "comments = comments.drop_duplicates('id')\n",
    "comments.post_date = comments.post_date.apply(dateparse)\n",
    "comments = comments.merge(answers[['id', 'question_id']].rename(columns={'id': 'parent_id'}), on='parent_id', how='left')\n",
    "comments.loc[comments.question_id.isna(), 'question_id'] = comments[comments.question_id.isna()]['parent_id']\n",
    "comments = comments[['id', 'author_id', 'question_id', 'post_date', 'text']]"
   ]
  },
  {
   "cell_type": "code",
   "execution_count": 6,
   "metadata": {
    "execution": {
     "iopub.execute_input": "2021-03-18T19:40:09.075898Z",
     "iopub.status.busy": "2021-03-18T19:40:09.075678Z",
     "iopub.status.idle": "2021-03-18T19:40:09.724700Z",
     "shell.execute_reply": "2021-03-18T19:40:09.724023Z",
     "shell.execute_reply.started": "2021-03-18T19:40:09.075871Z"
    }
   },
   "outputs": [],
   "source": [
    "answers = answers.drop_duplicates('id')\n",
    "answers.post_date = answers.post_date.apply(dateparse)\n",
    "answers['is_accepted'] = answers.id.isin(questions.accepted_id).apply(lambda n: 1 if n else 0)\n",
    "answers = answers[['id', 'author_id', 'question_id', 'post_date', 'is_accepted', 'text']]"
   ]
  },
  {
   "cell_type": "code",
   "execution_count": 7,
   "metadata": {
    "execution": {
     "iopub.execute_input": "2021-03-18T19:40:09.725880Z",
     "iopub.status.busy": "2021-03-18T19:40:09.725632Z",
     "iopub.status.idle": "2021-03-18T19:40:10.295278Z",
     "shell.execute_reply": "2021-03-18T19:40:10.294442Z",
     "shell.execute_reply.started": "2021-03-18T19:40:09.725848Z"
    }
   },
   "outputs": [],
   "source": [
    "questions = questions.drop_duplicates('id')\n",
    "questions.post_date = questions.post_date.apply(dateparse)\n",
    "questions['is_resolved'] = questions.accepted_id.apply(lambda n: 0 if n is None else 1)\n",
    "questions['url'] = questions.id.apply(lambda s: f'https://stackoverflow.com/questions/{s}/index.html')\n",
    "questions = questions[['id', 'author_id', 'post_date', 'is_resolved', 'title', 'text', 'url']]"
   ]
  },
  {
   "cell_type": "code",
   "execution_count": 8,
   "metadata": {
    "execution": {
     "iopub.execute_input": "2021-03-18T19:40:10.297057Z",
     "iopub.status.busy": "2021-03-18T19:40:10.296845Z",
     "iopub.status.idle": "2021-03-18T19:40:10.477879Z",
     "shell.execute_reply": "2021-03-18T19:40:10.477189Z",
     "shell.execute_reply.started": "2021-03-18T19:40:10.297031Z"
    }
   },
   "outputs": [],
   "source": [
    "users = pd.concat([df.author_id.reset_index() for df in [questions, comments, answers]])\n",
    "users = users[['author_id']].drop_duplicates()\n",
    "users = users.rename(columns={'author_id': 'id'})\n",
    "users['url'] = users.id.apply(lambda s: f'https://stackoverflow.com/users/{s}/index.html')"
   ]
  },
  {
   "cell_type": "code",
   "execution_count": 9,
   "metadata": {
    "execution": {
     "iopub.execute_input": "2021-03-18T19:40:10.478895Z",
     "iopub.status.busy": "2021-03-18T19:40:10.478712Z",
     "iopub.status.idle": "2021-03-18T19:40:11.750465Z",
     "shell.execute_reply": "2021-03-18T19:40:11.749937Z",
     "shell.execute_reply.started": "2021-03-18T19:40:10.478872Z"
    },
    "tags": []
   },
   "outputs": [],
   "source": [
    "comments.to_parquet(data_dir / 'unprocessed/comments.parquet', index=False)\n",
    "answers.to_parquet(data_dir / 'unprocessed/answers.parquet', index=False)\n",
    "questions.to_parquet(data_dir / 'unprocessed/questions.parquet', index=False)\n",
    "users.to_parquet(data_dir / 'users.parquet', index=False)"
   ]
  }
 ],
 "metadata": {
  "kernelspec": {
   "display_name": "Python 3",
   "language": "python",
   "name": "python3"
  },
  "language_info": {
   "codemirror_mode": {
    "name": "ipython",
    "version": 3
   },
   "file_extension": ".py",
   "mimetype": "text/x-python",
   "name": "python",
   "nbconvert_exporter": "python",
   "pygments_lexer": "ipython3",
   "version": "3.9.2"
  }
 },
 "nbformat": 4,
 "nbformat_minor": 4
}
