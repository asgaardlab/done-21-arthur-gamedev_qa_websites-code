{
 "cells": [
  {
   "cell_type": "code",
   "execution_count": 1,
   "metadata": {
    "execution": {
     "iopub.execute_input": "2021-03-18T19:40:16.098754Z",
     "iopub.status.busy": "2021-03-18T19:40:16.097989Z",
     "iopub.status.idle": "2021-03-18T19:40:16.336350Z",
     "shell.execute_reply": "2021-03-18T19:40:16.335890Z",
     "shell.execute_reply.started": "2021-03-18T19:40:16.098513Z"
    }
   },
   "outputs": [],
   "source": [
    "import pandas as pd\n",
    "from pathlib import Path\n",
    "from datetime import datetime\n",
    "from xml.etree.ElementTree import iterparse"
   ]
  },
  {
   "cell_type": "code",
   "execution_count": 2,
   "metadata": {
    "execution": {
     "iopub.execute_input": "2021-03-18T19:40:16.337185Z",
     "iopub.status.busy": "2021-03-18T19:40:16.337075Z",
     "iopub.status.idle": "2021-03-18T19:40:16.339277Z",
     "shell.execute_reply": "2021-03-18T19:40:16.338808Z",
     "shell.execute_reply.started": "2021-03-18T19:40:16.337170Z"
    }
   },
   "outputs": [],
   "source": [
    "data_dir = Path('../../../data/gamedev_se/')"
   ]
  },
  {
   "cell_type": "code",
   "execution_count": 3,
   "metadata": {
    "execution": {
     "iopub.execute_input": "2021-03-18T19:40:16.340484Z",
     "iopub.status.busy": "2021-03-18T19:40:16.340278Z",
     "iopub.status.idle": "2021-03-18T19:40:21.597647Z",
     "shell.execute_reply": "2021-03-18T19:40:21.595454Z",
     "shell.execute_reply.started": "2021-03-18T19:40:16.340460Z"
    }
   },
   "outputs": [],
   "source": [
    "answers = []\n",
    "questions = []\n",
    "\n",
    "for _, node in iterparse(data_dir / \"raw/Posts.xml\", events=(\"end\",)):\n",
    "    if node.tag == \"row\":\n",
    "        if node.attrib.get('PostTypeId') == '1':\n",
    "            questions.append({\n",
    "                'id': node.attrib.get('Id'),\n",
    "                'accepted_id': node.attrib.get('AcceptedAnswerId'),\n",
    "                'post_date': node.attrib.get('CreationDate'),\n",
    "                'author_id': node.attrib.get('OwnerUserId'),\n",
    "                'title': node.attrib.get('Title'), \n",
    "                'text': node.attrib.get('Body'),\n",
    "            })\n",
    "        else:\n",
    "            answers.append({\n",
    "                'id': node.attrib.get('Id'),\n",
    "                'question_id': node.attrib.get('ParentId'),\n",
    "                'post_date': node.attrib.get('CreationDate'),\n",
    "                'author_id': node.attrib.get('OwnerUserId'),\n",
    "                'text': node.attrib.get('Body')\n",
    "            })\n",
    "        node.clear()\n",
    "        \n",
    "answers = pd.DataFrame(answers)\n",
    "questions = pd.DataFrame(questions)\n",
    "\n",
    "comments = []\n",
    "\n",
    "for _, node in iterparse(data_dir / \"raw/Comments.xml\", events=(\"end\",)):\n",
    "    if node.tag == \"row\":\n",
    "        comments.append({\n",
    "            'id': node.attrib.get('Id'),\n",
    "            'parent_id': node.attrib.get('PostId'),\n",
    "            'post_date': node.attrib.get('CreationDate'),\n",
    "            'author_id': node.attrib.get('UserId'),\n",
    "            'text': node.attrib.get('Text')\n",
    "        })\n",
    "        node.clear()\n",
    "        \n",
    "comments = pd.DataFrame(comments)"
   ]
  },
  {
   "cell_type": "code",
   "execution_count": 4,
   "metadata": {
    "execution": {
     "iopub.execute_input": "2021-03-18T19:40:21.600671Z",
     "iopub.status.busy": "2021-03-18T19:40:21.600291Z",
     "iopub.status.idle": "2021-03-18T19:40:21.605922Z",
     "shell.execute_reply": "2021-03-18T19:40:21.604825Z",
     "shell.execute_reply.started": "2021-03-18T19:40:21.600624Z"
    }
   },
   "outputs": [],
   "source": [
    "dateparse = lambda t: datetime.strptime(t, '%Y-%m-%dT%H:%M:%S.%f')"
   ]
  },
  {
   "cell_type": "code",
   "execution_count": 5,
   "metadata": {
    "execution": {
     "iopub.execute_input": "2021-03-18T19:40:21.607568Z",
     "iopub.status.busy": "2021-03-18T19:40:21.607232Z",
     "iopub.status.idle": "2021-03-18T19:40:23.611534Z",
     "shell.execute_reply": "2021-03-18T19:40:23.610713Z",
     "shell.execute_reply.started": "2021-03-18T19:40:21.607528Z"
    }
   },
   "outputs": [],
   "source": [
    "comments.post_date = comments.post_date.apply(dateparse)\n",
    "comments = comments.merge(answers[['id', 'question_id']].rename(columns={'id': 'parent_id'}), on='parent_id', how='left')\n",
    "comments.loc[comments.question_id.isna(), 'question_id'] = comments[comments.question_id.isna()]['parent_id']\n",
    "comments = comments[['id', 'author_id', 'question_id', 'post_date', 'text']]"
   ]
  },
  {
   "cell_type": "code",
   "execution_count": 6,
   "metadata": {
    "execution": {
     "iopub.execute_input": "2021-03-18T19:40:23.612784Z",
     "iopub.status.busy": "2021-03-18T19:40:23.612551Z",
     "iopub.status.idle": "2021-03-18T19:40:24.225208Z",
     "shell.execute_reply": "2021-03-18T19:40:24.224501Z",
     "shell.execute_reply.started": "2021-03-18T19:40:23.612754Z"
    }
   },
   "outputs": [],
   "source": [
    "answers.post_date = answers.post_date.apply(dateparse)\n",
    "answers['is_accepted'] = answers.id.isin(questions.accepted_id).apply(lambda n: 1 if n else 0)\n",
    "answers = answers[['id', 'author_id', 'question_id', 'post_date', 'is_accepted', 'text']]"
   ]
  },
  {
   "cell_type": "code",
   "execution_count": 7,
   "metadata": {
    "execution": {
     "iopub.execute_input": "2021-03-18T19:40:24.226260Z",
     "iopub.status.busy": "2021-03-18T19:40:24.226073Z",
     "iopub.status.idle": "2021-03-18T19:40:24.663666Z",
     "shell.execute_reply": "2021-03-18T19:40:24.662954Z",
     "shell.execute_reply.started": "2021-03-18T19:40:24.226237Z"
    }
   },
   "outputs": [],
   "source": [
    "questions.post_date = questions.post_date.apply(dateparse)\n",
    "questions['is_resolved'] = questions.accepted_id.apply(lambda n: 0 if n is None else 1)\n",
    "questions['url'] = questions.id.apply(lambda s: f'https://gamedev.stackexchange.com/questions/{s}/index.html')\n",
    "questions = questions[['id', 'author_id', 'post_date', 'is_resolved', 'title', 'text', 'url']]"
   ]
  },
  {
   "cell_type": "code",
   "execution_count": 8,
   "metadata": {
    "execution": {
     "iopub.execute_input": "2021-03-18T19:40:24.665237Z",
     "iopub.status.busy": "2021-03-18T19:40:24.665035Z",
     "iopub.status.idle": "2021-03-18T19:40:24.813756Z",
     "shell.execute_reply": "2021-03-18T19:40:24.812960Z",
     "shell.execute_reply.started": "2021-03-18T19:40:24.665212Z"
    }
   },
   "outputs": [],
   "source": [
    "users = pd.concat([df.author_id.reset_index() for df in [questions, comments, answers]])\n",
    "users = users[['author_id']].drop_duplicates()\n",
    "users = users.rename(columns={'author_id': 'id'})\n",
    "users['url'] = users.id.apply(lambda s: f'https://gamedev.stackexchange.com/users/{s}/index.html')"
   ]
  },
  {
   "cell_type": "code",
   "execution_count": 9,
   "metadata": {
    "execution": {
     "iopub.execute_input": "2021-03-18T19:40:24.815395Z",
     "iopub.status.busy": "2021-03-18T19:40:24.815089Z",
     "iopub.status.idle": "2021-03-18T19:40:26.037655Z",
     "shell.execute_reply": "2021-03-18T19:40:26.037137Z",
     "shell.execute_reply.started": "2021-03-18T19:40:24.815356Z"
    },
    "tags": []
   },
   "outputs": [],
   "source": [
    "comments.to_parquet(data_dir / 'unprocessed/comments.parquet', index=False)\n",
    "answers.to_parquet(data_dir / 'unprocessed/answers.parquet', index=False)\n",
    "questions.to_parquet(data_dir / 'unprocessed/questions.parquet', index=False)\n",
    "users.to_parquet(data_dir / 'users.parquet', index=False)"
   ]
  }
 ],
 "metadata": {
  "kernelspec": {
   "display_name": "Python 3",
   "language": "python",
   "name": "python3"
  },
  "language_info": {
   "codemirror_mode": {
    "name": "ipython",
    "version": 3
   },
   "file_extension": ".py",
   "mimetype": "text/x-python",
   "name": "python",
   "nbconvert_exporter": "python",
   "pygments_lexer": "ipython3",
   "version": "3.9.2"
  }
 },
 "nbformat": 4,
 "nbformat_minor": 4
}
