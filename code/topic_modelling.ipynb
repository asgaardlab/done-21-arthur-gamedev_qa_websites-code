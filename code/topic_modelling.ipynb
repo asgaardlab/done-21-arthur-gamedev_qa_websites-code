{
 "cells": [
  {
   "cell_type": "code",
   "execution_count": 2,
   "metadata": {
    "ExecuteTime": {
     "end_time": "2020-11-16T16:34:23.966423Z",
     "start_time": "2020-11-16T16:34:23.116273Z"
    },
    "execution": {
     "iopub.execute_input": "2021-02-15T03:38:00.908588Z",
     "iopub.status.busy": "2021-02-15T03:38:00.908423Z",
     "iopub.status.idle": "2021-02-15T03:38:01.698815Z",
     "shell.execute_reply": "2021-02-15T03:38:01.698301Z",
     "shell.execute_reply.started": "2021-02-15T03:38:00.908570Z"
    }
   },
   "outputs": [],
   "source": [
    "from gensim.models import LdaModel\n",
    "from gensim.corpora.dictionary import Dictionary\n",
    "\n",
    "import numpy as np\n",
    "import pandas as pd"
   ]
  },
  {
   "cell_type": "markdown",
   "metadata": {
    "execution": {
     "iopub.execute_input": "2021-03-18T22:06:14.155087Z",
     "iopub.status.busy": "2021-03-18T22:06:14.154823Z",
     "iopub.status.idle": "2021-03-18T22:06:14.158716Z",
     "shell.execute_reply": "2021-03-18T22:06:14.157891Z",
     "shell.execute_reply.started": "2021-03-18T22:06:14.155017Z"
    },
    "tags": []
   },
   "source": [
    "This notebook reads data from `data/{website}/texts/corpus.parquet` and writes to `data/{website}/topics/` and `lda_models/`"
   ]
  },
  {
   "cell_type": "code",
   "execution_count": 2,
   "metadata": {
    "ExecuteTime": {
     "end_time": "2020-11-16T16:34:23.979442Z",
     "start_time": "2020-11-16T16:34:23.967859Z"
    },
    "code_folding": [
     0,
     6,
     11,
     25,
     34,
     46,
     53,
     56,
     61
    ],
    "execution": {
     "iopub.execute_input": "2021-02-15T02:48:50.227177Z",
     "iopub.status.busy": "2021-02-15T02:48:50.227008Z",
     "iopub.status.idle": "2021-02-15T02:48:50.238374Z",
     "shell.execute_reply": "2021-02-15T02:48:50.237843Z",
     "shell.execute_reply.started": "2021-02-15T02:48:50.227156Z"
    }
   },
   "outputs": [],
   "source": [
    "def vocab_bow(corpus):\n",
    "    vocab  = Dictionary(corpus.words)\n",
    "    bow    = corpus.words.apply(vocab.doc2bow)\n",
    "    return vocab, bow\n",
    "\n",
    "def make_corpus(websites):\n",
    "    corpus = []\n",
    "    for w in websites:\n",
    "        df = pd.read_parquet(f'../../data/{w}/texts/corpus.parquet')\n",
    "        df['source'] = w\n",
    "        corpus.append(df)\n",
    "    return pd.concat(corpus).reset_index(drop=True)\n",
    "\n",
    "def train_lda(websites=[], save_path='', n_topics=0, **kwargs):\n",
    "    corpus = make_corpus(websites)\n",
    "    vocab, bow = vocab_bow(corpus)\n",
    "    lda = LdaModel(\n",
    "        bow,\n",
    "        random_state=42,\n",
    "        id2word=vocab,\n",
    "        alpha='auto',\n",
    "        eta='auto',\n",
    "        passes=1,\n",
    "        eval_every=5,\n",
    "        num_topics=n_topics)\n",
    "\n",
    "    lda.save(save_path)\n",
    "    \n",
    "def main_topic(ts, excluded={}):\n",
    "    ts = [t for t in ts if t[0] not in excluded]\n",
    "    \n",
    "    if len(ts) == 0:\n",
    "        ts = np.nan\n",
    "    else:\n",
    "        ts = max(ts, key=lambda t: t[1])[0]\n",
    "    return ts\n",
    "\n",
    "def assign_topics(corpus, lda_path):\n",
    "    lda = LdaModel.load(lda_path)\n",
    "    _, bow = vocab_bow(corpus)\n",
    "\n",
    "    corpus['topics'] = bow.apply(lambda l: lda[l])\n",
    "\n",
    "def topic_words(lda_path, n_words):\n",
    "    def string_to_list(s):\n",
    "        split = s.split('+')\n",
    "        words = [w.split('*')[1] for w in split]\n",
    "        words = [w.strip().strip('\"') for w in words]\n",
    "        return words\n",
    "    \n",
    "    lda = LdaModel.load(lda_path)    \n",
    "    topics = lda.show_topics(num_topics=lda.num_topics, num_words=n_words)\n",
    "    words = [(a, string_to_list(b)) for a, b in topics]\n",
    "    words = pd.DataFrame(words, columns=['topic', 'words'])\n",
    "    return words"
   ]
  },
  {
   "cell_type": "code",
   "execution_count": 3,
   "metadata": {
    "ExecuteTime": {
     "end_time": "2020-11-16T16:34:24.432551Z",
     "start_time": "2020-11-16T16:34:24.426207Z"
    },
    "execution": {
     "iopub.execute_input": "2021-02-15T02:48:50.239626Z",
     "iopub.status.busy": "2021-02-15T02:48:50.239427Z",
     "iopub.status.idle": "2021-02-15T02:48:50.243273Z",
     "shell.execute_reply": "2021-02-15T02:48:50.242659Z",
     "shell.execute_reply.started": "2021-02-15T02:48:50.239606Z"
    }
   },
   "outputs": [],
   "source": [
    "lda_uu ={\n",
    "    'websites': ['unity', 'ue4'],\n",
    "    'save_path': '../lda_models/lda_unity_ue4.model',\n",
    "    'n_topics': 30,\n",
    "    'excluded_topics': {10, 18, 24}\n",
    "}\n",
    "\n",
    "lda_ss ={\n",
    "    'websites': ['stackoverflow', 'gamedev_se'],\n",
    "    'save_path': '../lda_models/lda_so_se.model',\n",
    "    'n_topics': 30,\n",
    "    'excluded_topics': {24, 19, 29, 3, 4}\n",
    "}\n",
    "\n",
    "lda = lda_uu # <- change this to run for different websites"
   ]
  },
  {
   "cell_type": "code",
   "execution_count": 4,
   "metadata": {
    "execution": {
     "iopub.execute_input": "2021-02-15T02:48:50.244271Z",
     "iopub.status.busy": "2021-02-15T02:48:50.244050Z",
     "iopub.status.idle": "2021-02-15T02:48:50.247370Z",
     "shell.execute_reply": "2021-02-15T02:48:50.246799Z",
     "shell.execute_reply.started": "2021-02-15T02:48:50.244245Z"
    }
   },
   "outputs": [],
   "source": [
    "#train_lda(**lda) # 56 min for Unity+UE4, 11 min for SO + SE"
   ]
  },
  {
   "cell_type": "code",
   "execution_count": 5,
   "metadata": {
    "ExecuteTime": {
     "end_time": "2020-11-16T17:37:15.535612Z",
     "start_time": "2020-11-16T17:29:28.681298Z"
    },
    "execution": {
     "iopub.execute_input": "2021-02-15T02:48:50.641664Z",
     "iopub.status.busy": "2021-02-15T02:48:50.640738Z",
     "iopub.status.idle": "2021-02-15T03:00:43.653626Z",
     "shell.execute_reply": "2021-02-15T03:00:43.652967Z",
     "shell.execute_reply.started": "2021-02-15T02:48:50.641556Z"
    }
   },
   "outputs": [],
   "source": [
    "corpus = make_corpus(lda['websites'])\n",
    "assign_topics(corpus, lda['save_path'])"
   ]
  },
  {
   "cell_type": "code",
   "execution_count": 6,
   "metadata": {
    "execution": {
     "iopub.execute_input": "2021-02-15T03:00:43.654781Z",
     "iopub.status.busy": "2021-02-15T03:00:43.654611Z",
     "iopub.status.idle": "2021-02-15T03:00:49.676710Z",
     "shell.execute_reply": "2021-02-15T03:00:49.675961Z",
     "shell.execute_reply.started": "2021-02-15T03:00:43.654759Z"
    }
   },
   "outputs": [],
   "source": [
    "corpus['topic'] = corpus['topics'].apply(lambda t: main_topic(t, lda['excluded_topics']))\n",
    "corpus.loc[corpus.words.apply(len) == 0, 'topic'] = None"
   ]
  },
  {
   "cell_type": "code",
   "execution_count": 7,
   "metadata": {
    "execution": {
     "iopub.execute_input": "2021-02-15T03:00:49.678209Z",
     "iopub.status.busy": "2021-02-15T03:00:49.678016Z",
     "iopub.status.idle": "2021-02-15T03:00:51.345495Z",
     "shell.execute_reply": "2021-02-15T03:00:51.344609Z",
     "shell.execute_reply.started": "2021-02-15T03:00:49.678184Z"
    }
   },
   "outputs": [],
   "source": [
    "words = topic_words(lda['save_path'], 15)"
   ]
  },
  {
   "cell_type": "code",
   "execution_count": 9,
   "metadata": {
    "execution": {
     "iopub.execute_input": "2021-02-15T03:00:51.355614Z",
     "iopub.status.busy": "2021-02-15T03:00:51.354994Z",
     "iopub.status.idle": "2021-02-15T03:00:54.940607Z",
     "shell.execute_reply": "2021-02-15T03:00:54.939865Z",
     "shell.execute_reply.started": "2021-02-15T03:00:51.355576Z"
    }
   },
   "outputs": [],
   "source": [
    "corpus = corpus[['id', 'source', 'post_type', 'topic']].copy()"
   ]
  },
  {
   "cell_type": "code",
   "execution_count": 10,
   "metadata": {
    "execution": {
     "iopub.execute_input": "2021-02-15T03:00:54.941999Z",
     "iopub.status.busy": "2021-02-15T03:00:54.941696Z",
     "iopub.status.idle": "2021-02-15T03:00:56.535391Z",
     "shell.execute_reply": "2021-02-15T03:00:56.534815Z",
     "shell.execute_reply.started": "2021-02-15T03:00:54.941964Z"
    }
   },
   "outputs": [],
   "source": [
    "lda_ss['topic_map'] = {\n",
    "    0:  'Event handling',\n",
    "    1:  'File management',\n",
    "    2:  'Game environments',\n",
    "    5:  'Collisions',\n",
    "    6:  'Object Oriented Programming',\n",
    "    7:  'Positioning',\n",
    "    8:  'GUI',\n",
    "    9:  'Game engines',\n",
    "    10: 'Viewport',\n",
    "    11: 'Publishing apps',\n",
    "    12: 'Movement',\n",
    "    13: 'Android development',\n",
    "    14: 'Camera',\n",
    "    15: 'Geometry',\n",
    "    16: 'General programming',\n",
    "    17: 'Sound/audio',\n",
    "    18: 'User accounts',\n",
    "    20: 'Game objects',\n",
    "    21: '3D modeling',\n",
    "    22: 'Rendering',\n",
    "    23: 'Character animation',\n",
    "    25: 'Networking',\n",
    "    26: 'Display',\n",
    "    27: 'Game mechanics',\n",
    "    28: 'Runtime',\n",
    "}\n",
    "\n",
    "lda_uu['topic_map'] = {\n",
    "    0:  'General programming',\n",
    "    1:  'Game objects',\n",
    "    2:  'Meshes',\n",
    "    3:  'Bug reports',\n",
    "    4:  'Programming errors',\n",
    "    5:  'Event handling',\n",
    "    6:  'Geometry',\n",
    "    7:  'Game loop',\n",
    "    8:  'Networking',\n",
    "    9:  'GUI',\n",
    "    11: 'Collisions',\n",
    "    12: 'Object Oriented Programming',\n",
    "    13: 'Character animation',\n",
    "    14: 'Materials',\n",
    "    15: 'Game engines',\n",
    "    16: 'Runtime',\n",
    "    17: 'Rendering',\n",
    "    19: 'General errors',\n",
    "    20: 'Positioning',\n",
    "    21: '3D modeling',\n",
    "    22: 'Camera and display',\n",
    "    23: 'FX',\n",
    "    25: 'Lighting',\n",
    "    26: 'Game mechanics',\n",
    "    27: 'Movement',\n",
    "    28: 'External tools',\n",
    "    29: 'File management',\n",
    "}\n",
    "\n",
    "corpus['topic_label'] = corpus.topic.apply(lambda n: n if pd.isna(n) else lda['topic_map'][n])"
   ]
  },
  {
   "cell_type": "code",
   "execution_count": 11,
   "metadata": {
    "execution": {
     "iopub.execute_input": "2021-02-15T03:00:56.536394Z",
     "iopub.status.busy": "2021-02-15T03:00:56.536219Z",
     "iopub.status.idle": "2021-02-15T03:00:57.689323Z",
     "shell.execute_reply": "2021-02-15T03:00:57.688666Z",
     "shell.execute_reply.started": "2021-02-15T03:00:56.536372Z"
    }
   },
   "outputs": [],
   "source": [
    "gen_dev = 'General software development'\n",
    "bugs = 'Bugs, crashes, and errors'\n",
    "games = 'Game development'\n",
    "\n",
    "categories = {\n",
    "    'Event handling': gen_dev,\n",
    "    'File management': gen_dev,\n",
    "    'Game environments': games,\n",
    "    'Collisions': games,\n",
    "    'Object Oriented Programming': gen_dev,\n",
    "    'Positioning': games,\n",
    "    'Player controls': games,\n",
    "    'Game engines': games,\n",
    "    'Viewport': games,\n",
    "    'Publishing apps': gen_dev,\n",
    "    'Movement': games,\n",
    "    'Android development': gen_dev,\n",
    "    'Camera and display': games,\n",
    "    'Camera': games,\n",
    "    'Geometry': games,\n",
    "    'General programming': gen_dev,\n",
    "    'Sound/audio': games,\n",
    "    'User accounts': gen_dev,\n",
    "    'Game objects': games,\n",
    "    '3D modeling': games,\n",
    "    'Rendering': games,\n",
    "    'Character animation': games,\n",
    "    'Networking': gen_dev,\n",
    "    'Display': games,\n",
    "    'Game mechanics': games,\n",
    "    'Runtime': gen_dev,\n",
    "    'Meshes': games,\n",
    "    'Bug reports': bugs,\n",
    "    'Programming errors': bugs,\n",
    "    'Game loop': games,\n",
    "    'GUI': games,\n",
    "    'Materials': games,\n",
    "    'General errors': bugs,\n",
    "    'FX': games,\n",
    "    'Lighting': games,\n",
    "    'External tools': games,\n",
    "}\n",
    "\n",
    "corpus['category'] = corpus.topic_label.apply(lambda l: l if pd.isna(l) else categories[l])"
   ]
  },
  {
   "cell_type": "code",
   "execution_count": 12,
   "metadata": {
    "execution": {
     "iopub.execute_input": "2021-02-15T03:00:57.690860Z",
     "iopub.status.busy": "2021-02-15T03:00:57.690663Z",
     "iopub.status.idle": "2021-02-15T03:01:00.994957Z",
     "shell.execute_reply": "2021-02-15T03:01:00.994216Z",
     "shell.execute_reply.started": "2021-02-15T03:00:57.690836Z"
    }
   },
   "outputs": [],
   "source": [
    "for s in corpus.source.unique():\n",
    "    for p in corpus.post_type.unique():\n",
    "        df = corpus[(corpus.source == s) & (corpus.post_type == p)]\n",
    "        df = df.drop(columns=['source', 'post_type'])\n",
    "        df.to_parquet(f'../../data/{s}/topics/{p}s.parquet')"
   ]
  }
 ],
 "metadata": {
  "kernelspec": {
   "display_name": "Python 3",
   "language": "python",
   "name": "python3"
  },
  "language_info": {
   "codemirror_mode": {
    "name": "ipython",
    "version": 3
   },
   "file_extension": ".py",
   "mimetype": "text/x-python",
   "name": "python",
   "nbconvert_exporter": "python",
   "pygments_lexer": "ipython3",
   "version": "3.9.2"
  }
 },
 "nbformat": 4,
 "nbformat_minor": 4
}
