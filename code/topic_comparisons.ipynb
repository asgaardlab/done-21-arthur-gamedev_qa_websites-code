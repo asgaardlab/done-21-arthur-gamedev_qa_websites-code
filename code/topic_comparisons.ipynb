{
 "cells": [
  {
   "cell_type": "code",
   "execution_count": 1,
   "metadata": {
    "execution": {
     "iopub.execute_input": "2021-03-18T22:28:54.322268Z",
     "iopub.status.busy": "2021-03-18T22:28:54.321977Z",
     "iopub.status.idle": "2021-03-18T22:28:54.809019Z",
     "shell.execute_reply": "2021-03-18T22:28:54.808543Z",
     "shell.execute_reply.started": "2021-03-18T22:28:54.322186Z"
    }
   },
   "outputs": [],
   "source": [
    "import pandas as pd\n",
    "from scipy.stats import mannwhitneyu"
   ]
  },
  {
   "cell_type": "markdown",
   "metadata": {
    "execution": {
     "iopub.execute_input": "2021-03-18T22:06:14.155087Z",
     "iopub.status.busy": "2021-03-18T22:06:14.154823Z",
     "iopub.status.idle": "2021-03-18T22:06:14.158716Z",
     "shell.execute_reply": "2021-03-18T22:06:14.157891Z",
     "shell.execute_reply.started": "2021-03-18T22:06:14.155017Z"
    },
    "tags": []
   },
   "source": [
    "This notebook reads data from `data/{website}/` and writes to `data/topic_comparisons/`"
   ]
  },
  {
   "cell_type": "code",
   "execution_count": 2,
   "metadata": {
    "execution": {
     "iopub.execute_input": "2021-03-18T22:28:54.809998Z",
     "iopub.status.busy": "2021-03-18T22:28:54.809819Z",
     "iopub.status.idle": "2021-03-18T22:28:54.824098Z",
     "shell.execute_reply": "2021-03-18T22:28:54.823554Z",
     "shell.execute_reply.started": "2021-03-18T22:28:54.809984Z"
    }
   },
   "outputs": [],
   "source": [
    "# Code for cliffsDelta is from https://github.com/neilernst/cliffsDelta/blob/master/cliffsDelta.py\n",
    "\n",
    "def cliffsDelta(lst1, lst2):\n",
    "    m, n = len(lst1), len(lst2)\n",
    "    lst2 = sorted(lst2)\n",
    "    j = more = less = 0\n",
    "    for repeats, x in runs(sorted(lst1)):\n",
    "        while j <= (n - 1) and lst2[j] < x:\n",
    "            j += 1\n",
    "        more += j*repeats\n",
    "        while j <= (n - 1) and lst2[j] == x:\n",
    "            j += 1\n",
    "        less += (n - j)*repeats\n",
    "    d = (more - less) / (m*n)\n",
    "    return d\n",
    "\n",
    "def runs(lst):\n",
    "    \"\"\"Iterator, chunks repeated values\"\"\"\n",
    "    for j, two in enumerate(lst):\n",
    "        if j == 0:\n",
    "            one, i = two, 0\n",
    "        if one != two:\n",
    "            yield j - i, one\n",
    "            i = j\n",
    "        one = two\n",
    "    yield j - i + 1, two\n",
    "    \n",
    "def compare(topic, others, res):\n",
    "    try:\n",
    "        if mannwhitneyu(topic, others, alternative='greater').pvalue < thr:\n",
    "            res['difference'] = 'greater'\n",
    "        elif mannwhitneyu(topic, others, alternative='less').pvalue < thr:\n",
    "            res['difference'] = 'less'\n",
    "    except ValueError:\n",
    "        pass\n",
    "\n",
    "    if 'difference' in res:\n",
    "        d = cliffsDelta(topic, others)\n",
    "\n",
    "        if d <= 0.147:\n",
    "            res['delta'] = 'negligible'\n",
    "        elif d <= 0.33:\n",
    "            res['delta'] = 'small'\n",
    "        elif d <= 0.474:\n",
    "            res['delta'] = 'medium'\n",
    "        else:\n",
    "            res['delta'] = 'large'\n",
    "\n",
    "        if res['delta'] != 'negligible':\n",
    "            res['mean'] = topic.mean()\n",
    "            res['mean_others'] = others.mean()\n",
    "            res['diff_mean'] = res['mean_others']-res['mean']\n",
    "\n",
    "            res['med'] = topic.median()\n",
    "            res['med_others'] = others.median()\n",
    "            res['diff_med']  = res['med_others']-res['med']\n",
    "\n",
    "def one_vs_all(df, aspects, thr):\n",
    "    def get_stats(topic_label, aspect):\n",
    "        topic   = df[df.topic_label == topic_label][aspect]\n",
    "        others  = df[df.topic_label != topic_label][aspect]\n",
    "        res = {}\n",
    "        \n",
    "        res['topic'] = topic_label\n",
    "        res['aspect'] = aspect\n",
    "        \n",
    "        compare(topic, others, res)\n",
    "        \n",
    "        return res\n",
    "    \n",
    "    df = df[~df.topic.isna()]\n",
    "    topics = df.topic_label.unique()\n",
    "    comparisons = []\n",
    "    \n",
    "    for t in topics:\n",
    "        for a in aspects:\n",
    "            comparisons.append(get_stats(t, a))\n",
    "            \n",
    "    return pd.DataFrame(comparisons)\n",
    "\n",
    "def compare_websites(df1, df2, aspects, thr):\n",
    "    def get_stats(topic_label, aspect):\n",
    "        topic1 = df1[df1.topic_label == topic_label][aspect]\n",
    "        topic2 = df2[df2.topic_label == topic_label][aspect]\n",
    "        res = {}\n",
    "        \n",
    "        res['topic'] = topic_label\n",
    "        res['aspect'] = aspect\n",
    "        \n",
    "        compare(topic1, topic2, res)\n",
    "        \n",
    "        return res\n",
    "    \n",
    "    df1 = df1[~df1.topic.isna()]\n",
    "    df2 = df2[~df2.topic.isna()]\n",
    "    topics = df1.topic_label.unique()\n",
    "    comparisons = []\n",
    "    \n",
    "    for t in topics:\n",
    "        for a in aspects:\n",
    "            comparisons.append(get_stats(t, a))\n",
    "            \n",
    "    return pd.DataFrame(comparisons)\n",
    "\n",
    "def one_vs_all_categories(df, aspects, thr):\n",
    "    def get_stats(cat, aspect):\n",
    "        category = df[df.category == cat][aspect]\n",
    "        others   = df[df.category != cat][aspect]\n",
    "        res = {}\n",
    "        \n",
    "        res['category'] = cat\n",
    "        res['aspect'] = aspect\n",
    "        \n",
    "        compare(category, others, res)\n",
    "        \n",
    "        return res\n",
    "    \n",
    "    df = df[~df.category.isna()]\n",
    "    categories = df.category.unique()\n",
    "    comparisons = []\n",
    "    \n",
    "    for t in categories:\n",
    "        for a in aspects:\n",
    "            comparisons.append(get_stats(t, a))\n",
    "            \n",
    "    return pd.DataFrame(comparisons)\n",
    "\n",
    "def compare_websites_categories(df1, df2, aspects, thr):\n",
    "    def get_stats(cat, aspect):\n",
    "        cat1 = df1[df1.category == cat][aspect]\n",
    "        cat2 = df2[df2.category == cat][aspect]\n",
    "        res = {}\n",
    "        \n",
    "        res['category'] = cat\n",
    "        res['aspect'] = aspect\n",
    "        \n",
    "        compare(cat1, cat2, res)\n",
    "        \n",
    "        return res\n",
    "    \n",
    "    df1 = df1[~df1.category.isna()]\n",
    "    df2 = df2[~df2.category.isna()]\n",
    "    categories = df1.category.unique()\n",
    "    comparisons = []\n",
    "    \n",
    "    for t in categories:\n",
    "        for a in aspects:\n",
    "            comparisons.append(get_stats(t, a))\n",
    "            \n",
    "    return pd.DataFrame(comparisons)"
   ]
  },
  {
   "cell_type": "code",
   "execution_count": 3,
   "metadata": {
    "execution": {
     "iopub.execute_input": "2021-03-18T22:28:54.825156Z",
     "iopub.status.busy": "2021-03-18T22:28:54.824976Z",
     "iopub.status.idle": "2021-03-18T22:28:54.828049Z",
     "shell.execute_reply": "2021-03-18T22:28:54.827625Z",
     "shell.execute_reply.started": "2021-03-18T22:28:54.825130Z"
    }
   },
   "outputs": [],
   "source": [
    "aspects = {\n",
    "    'questions': [\"n_responses\", \"len_text\", \"is_answered\", \"is_resolved\", \"has_code\"],\n",
    "    'answers': [\"is_accepted\", \"len_text\", \"has_code\"],\n",
    "    'comments': [\"len_text\", \"has_code\"]\n",
    "}"
   ]
  },
  {
   "cell_type": "code",
   "execution_count": 4,
   "metadata": {
    "execution": {
     "iopub.execute_input": "2021-03-18T22:28:54.828888Z",
     "iopub.status.busy": "2021-03-18T22:28:54.828717Z",
     "iopub.status.idle": "2021-03-18T22:30:48.595064Z",
     "shell.execute_reply": "2021-03-18T22:30:48.594495Z",
     "shell.execute_reply.started": "2021-03-18T22:28:54.828867Z"
    }
   },
   "outputs": [
    {
     "name": "stdout",
     "output_type": "stream",
     "text": [
      "unity\n",
      "\tquestions\n",
      "\tanswers\n",
      "\tcomments\n",
      "ue4\n",
      "\tquestions\n",
      "\tanswers\n",
      "\tcomments\n",
      "stackoverflow\n",
      "\tquestions\n",
      "\tanswers\n",
      "\tcomments\n",
      "gamedev_se\n",
      "\tquestions\n",
      "\tanswers\n",
      "\tcomments\n"
     ]
    }
   ],
   "source": [
    "comparisons = (27+27+25+25) * sum(len(l) for l in aspects.values())\n",
    "thr = 0.05/comparisons\n",
    "\n",
    "dfs = []\n",
    "for w in ['unity', 'ue4', 'stackoverflow', 'gamedev_se']:\n",
    "    print(w)\n",
    "    for t in ['questions', 'answers', 'comments']:\n",
    "        print(f'\\t{t}')\n",
    "        df = pd.read_csv(f'../data/{w}/{t}.csv')\n",
    "        df = one_vs_all(df, aspects[t], thr)\n",
    "        \n",
    "        df['website'] = w\n",
    "        df['post_type'] = t\n",
    "        \n",
    "        dfs.append(df)\n",
    "\n",
    "df = pd.concat(dfs).reset_index(drop=True).to_csv('../data/topic_comparisons/topic_comparisons.csv', index=False)"
   ]
  },
  {
   "cell_type": "code",
   "execution_count": 5,
   "metadata": {
    "execution": {
     "iopub.execute_input": "2021-03-18T22:30:48.595823Z",
     "iopub.status.busy": "2021-03-18T22:30:48.595689Z",
     "iopub.status.idle": "2021-03-18T22:31:05.427036Z",
     "shell.execute_reply": "2021-03-18T22:31:05.426509Z",
     "shell.execute_reply.started": "2021-03-18T22:30:48.595805Z"
    }
   },
   "outputs": [
    {
     "name": "stdout",
     "output_type": "stream",
     "text": [
      "unity\n",
      "\tquestions\n",
      "\tanswers\n",
      "\tcomments\n",
      "ue4\n",
      "\tquestions\n",
      "\tanswers\n",
      "\tcomments\n",
      "stackoverflow\n",
      "\tquestions\n",
      "\tanswers\n",
      "\tcomments\n",
      "gamedev_se\n",
      "\tquestions\n",
      "\tanswers\n",
      "\tcomments\n"
     ]
    }
   ],
   "source": [
    "comparisons = (3+3+2+2) * sum(len(l) for l in aspects.values())\n",
    "thr = 0.05/comparisons\n",
    "\n",
    "dfs = []\n",
    "for w in ['unity', 'ue4', 'stackoverflow', 'gamedev_se']:\n",
    "    print(w)\n",
    "    for t in ['questions', 'answers', 'comments']:\n",
    "        print(f'\\t{t}')\n",
    "        df = pd.read_csv(f'../data/{w}/{t}.csv')\n",
    "        df = one_vs_all_categories(df, aspects[t], thr)\n",
    "        \n",
    "        df['website'] = w\n",
    "        df['post_type'] = t\n",
    "        \n",
    "        dfs.append(df)\n",
    "\n",
    "df = pd.concat(dfs).reset_index(drop=True).to_csv('../data/topic_comparisons/category_comparisons.csv', index=False)"
   ]
  },
  {
   "cell_type": "code",
   "execution_count": 6,
   "metadata": {
    "execution": {
     "iopub.execute_input": "2021-03-18T22:31:05.427773Z",
     "iopub.status.busy": "2021-03-18T22:31:05.427638Z",
     "iopub.status.idle": "2021-03-18T22:31:26.707440Z",
     "shell.execute_reply": "2021-03-18T22:31:26.706825Z",
     "shell.execute_reply.started": "2021-03-18T22:31:05.427756Z"
    }
   },
   "outputs": [
    {
     "name": "stdout",
     "output_type": "stream",
     "text": [
      "unity ue4\n",
      "\tquestions\n",
      "\tanswers\n",
      "\tcomments\n",
      "stackoverflow gamedev_se\n",
      "\tquestions\n",
      "\tanswers\n",
      "\tcomments\n"
     ]
    }
   ],
   "source": [
    "dfs = []\n",
    "comparisons = (25+27) * sum(len(l) for l in aspects.values())\n",
    "thr = 0.05/comparisons\n",
    "\n",
    "for w1, w2 in [('unity', 'ue4'), ('stackoverflow', 'gamedev_se')]:\n",
    "    print(w1, w2)\n",
    "    for t in ['questions', 'answers', 'comments']:\n",
    "        print(f'\\t{t}')\n",
    "        df1 = pd.read_csv(f'../data/{w1}/{t}.csv')\n",
    "        df2 = pd.read_csv(f'../data/{w2}/{t}.csv')\n",
    "        \n",
    "        df = compare_websites(df1, df2, aspects[t], thr*2)\n",
    "        \n",
    "        df['websites'] = w1 + '/' + w2\n",
    "        df['post_type'] = t\n",
    "        \n",
    "        dfs.append(df)\n",
    "\n",
    "df = pd.concat(dfs).reset_index(drop=True).to_csv('../data/topic_comparisons/websites_topic_comparisons.csv', index=False)"
   ]
  },
  {
   "cell_type": "code",
   "execution_count": 7,
   "metadata": {
    "execution": {
     "iopub.execute_input": "2021-03-18T22:31:26.708316Z",
     "iopub.status.busy": "2021-03-18T22:31:26.708157Z",
     "iopub.status.idle": "2021-03-18T22:31:36.387218Z",
     "shell.execute_reply": "2021-03-18T22:31:36.386608Z",
     "shell.execute_reply.started": "2021-03-18T22:31:26.708296Z"
    },
    "tags": []
   },
   "outputs": [
    {
     "name": "stdout",
     "output_type": "stream",
     "text": [
      "unity ue4\n",
      "\tquestions\n",
      "\tanswers\n",
      "\tcomments\n",
      "stackoverflow gamedev_se\n",
      "\tquestions\n",
      "\tanswers\n",
      "\tcomments\n"
     ]
    }
   ],
   "source": [
    "dfs = []\n",
    "comparisons = (3+2) * sum(len(l) for l in aspects.values())\n",
    "thr = 0.05/comparisons\n",
    "for w1, w2 in [('unity', 'ue4'), ('stackoverflow', 'gamedev_se')]:\n",
    "    print(w1, w2)\n",
    "    for t in ['questions', 'answers', 'comments']:\n",
    "        print(f'\\t{t}')\n",
    "        df1 = pd.read_csv(f'../data/{w1}/{t}.csv')\n",
    "        df2 = pd.read_csv(f'../data/{w2}/{t}.csv')\n",
    "        \n",
    "        df = compare_websites_categories(df1, df2, aspects[t], thr*2)\n",
    "        \n",
    "        df['websites'] = w1 + '/' + w2\n",
    "        df['post_type'] = t\n",
    "        \n",
    "        dfs.append(df)\n",
    "\n",
    "df = pd.concat(dfs).reset_index(drop=True).to_csv('../data/topic_comparisons/websites_categories_comparisons.csv', index=False)"
   ]
  }
 ],
 "metadata": {
  "kernelspec": {
   "display_name": "Python 3",
   "language": "python",
   "name": "python3"
  },
  "language_info": {
   "codemirror_mode": {
    "name": "ipython",
    "version": 3
   },
   "file_extension": ".py",
   "mimetype": "text/x-python",
   "name": "python",
   "nbconvert_exporter": "python",
   "pygments_lexer": "ipython3",
   "version": "3.9.2"
  }
 },
 "nbformat": 4,
 "nbformat_minor": 4
}
