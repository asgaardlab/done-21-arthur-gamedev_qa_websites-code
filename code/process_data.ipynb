{
 "cells": [
  {
   "cell_type": "code",
   "execution_count": 1,
   "metadata": {
    "execution": {
     "iopub.execute_input": "2021-03-18T21:30:17.271058Z",
     "iopub.status.busy": "2021-03-18T21:30:17.270853Z",
     "iopub.status.idle": "2021-03-18T21:30:17.524226Z",
     "shell.execute_reply": "2021-03-18T21:30:17.523838Z",
     "shell.execute_reply.started": "2021-03-18T21:30:17.270998Z"
    }
   },
   "outputs": [],
   "source": [
    "import pandas as pd"
   ]
  },
  {
   "cell_type": "markdown",
   "metadata": {
    "execution": {
     "iopub.execute_input": "2021-03-18T22:06:14.155087Z",
     "iopub.status.busy": "2021-03-18T22:06:14.154823Z",
     "iopub.status.idle": "2021-03-18T22:06:14.158716Z",
     "shell.execute_reply": "2021-03-18T22:06:14.157891Z",
     "shell.execute_reply.started": "2021-03-18T22:06:14.155017Z"
    },
    "tags": []
   },
   "source": [
    "This notebook reads data from `data/{website}/{topics,unprocessed}/` and writes to `data/{website}/`"
   ]
  },
  {
   "cell_type": "code",
   "execution_count": 2,
   "metadata": {
    "execution": {
     "iopub.execute_input": "2021-03-18T21:30:17.525044Z",
     "iopub.status.busy": "2021-03-18T21:30:17.524931Z",
     "iopub.status.idle": "2021-03-18T21:30:17.534748Z",
     "shell.execute_reply": "2021-03-18T21:30:17.534290Z",
     "shell.execute_reply.started": "2021-03-18T21:30:17.525030Z"
    }
   },
   "outputs": [],
   "source": [
    "def read_table(w, p):\n",
    "    topics = pd.read_parquet(f'../data/{w}/topics/{p}.parquet')\n",
    "    df     = pd.read_parquet(f'../data/{w}/unprocessed/{p}.parquet').drop(columns='text')\n",
    "    df     = df.merge(topics, on='id', how='left')\n",
    "    return df\n",
    "\n",
    "def proc_questions(qsts, answ, cmts):\n",
    "    resolved = answ.groupby('question_id').is_accepted.sum().reset_index().rename(columns={'question_id': 'id'})\n",
    "    qsts = qsts.drop(columns='is_resolved').merge(resolved, on='id', how='left').rename(columns={'is_accepted': 'is_resolved'})\n",
    "    qsts.is_resolved = qsts.is_resolved.fillna(0)\n",
    "    qsts.is_resolved = qsts.is_resolved.apply(lambda x: 1 if x > 0 else 0)\n",
    "\n",
    "    n_answ   = answ.groupby('question_id').id.count().reset_index().rename(columns={'id': 'n_answers', 'question_id': 'id'})\n",
    "    n_cmts   = cmts.groupby('question_id').id.count().reset_index().rename(columns={'id': 'n_comments', 'question_id': 'id'})\n",
    "\n",
    "    qsts = qsts.merge(n_answ, on='id', how='left').merge(n_cmts, on='id', how='left')\n",
    "    qsts['n_answers'] = qsts.n_answers.fillna(0)\n",
    "    qsts['n_comments'] = qsts.n_comments.fillna(0)\n",
    "    qsts['n_responses'] = (qsts.n_answers + qsts.n_comments).fillna(0)\n",
    "    qsts['is_answered'] = qsts.n_answers.apply(lambda a: 0 if a == 0 else 1)\n",
    "    \n",
    "    qsts['len_text'] = qsts.text.apply(lambda t: t if pd.isna(t) else len(t))\n",
    "    qsts['has_code'] = qsts.text.str.contains('codesnippet').apply(lambda b: b if pd.isna(b) else int(b))\n",
    "    \n",
    "    return qsts\n",
    "\n",
    "def proc_answers(answ):\n",
    "    answ['len_text'] = answ.text.apply(lambda t: t if pd.isna(t) else len(t))\n",
    "    answ['has_code'] = answ.text.str.contains('codesnippet').apply(lambda b: b if pd.isna(b) else int(b))\n",
    "    answ['is_accepted'] = answ.is_accepted.apply(lambda x: 1 if x or x == 1 else 0)\n",
    "    \n",
    "    return answ\n",
    "\n",
    "def proc_comments(cmts):\n",
    "    cmts['len_text'] = cmts.text.apply(lambda t: t if pd.isna(t) else len(t))\n",
    "    cmts['has_code'] = cmts.text.str.contains('codesnippet').apply(lambda b: b if pd.isna(b) else int(b))\n",
    "    \n",
    "    return cmts"
   ]
  },
  {
   "cell_type": "code",
   "execution_count": 3,
   "metadata": {
    "execution": {
     "iopub.execute_input": "2021-03-18T21:30:17.535561Z",
     "iopub.status.busy": "2021-03-18T21:30:17.535405Z",
     "iopub.status.idle": "2021-03-18T21:31:14.428127Z",
     "shell.execute_reply": "2021-03-18T21:31:14.425531Z",
     "shell.execute_reply.started": "2021-03-18T21:30:17.535544Z"
    },
    "tags": []
   },
   "outputs": [],
   "source": [
    "for w in ['unity', 'ue4', 'stackoverflow', 'gamedev_se']:\n",
    "    qsts = read_table(w, 'questions')\n",
    "    answ = read_table(w, 'answers')\n",
    "    cmts = read_table(w, 'comments')\n",
    "    \n",
    "    qsts = proc_questions(qsts, answ, cmts)\n",
    "    answ = proc_answers(answ)\n",
    "    cmts = proc_comments(cmts)\n",
    "    \n",
    "    qsts.to_csv(f'../data/{w}/questions.csv', index=False)\n",
    "    answ.to_csv(f'../data/{w}/answers.csv', index=False)\n",
    "    cmts.to_csv(f'../data/{w}/comments.csv', index=False)"
   ]
  }
 ],
 "metadata": {
  "kernelspec": {
   "display_name": "Python 3",
   "language": "python",
   "name": "python3"
  },
  "language_info": {
   "codemirror_mode": {
    "name": "ipython",
    "version": 3
   },
   "file_extension": ".py",
   "mimetype": "text/x-python",
   "name": "python",
   "nbconvert_exporter": "python",
   "pygments_lexer": "ipython3",
   "version": "3.9.2"
  }
 },
 "nbformat": 4,
 "nbformat_minor": 4
}
